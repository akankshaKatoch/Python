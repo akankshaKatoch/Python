{
 "cells": [
  {
   "cell_type": "markdown",
   "metadata": {},
   "source": [
    "## Iteration - Practice Problem\n",
    "__Write a program that calculates the amount of money a person would earn over a period of time if his or her salary is  one  penny  the  first  day,  two  pennies  the  second  day, and continues to double each day. The program should ask the user for the number of days. Display a table showing what the salary was for each day. Finally, the program should display the total pay at the end of the period. All output should be displayed as a dollar amounts and not as the number of pennies.__\n"
   ]
  },
  {
   "cell_type": "code",
   "execution_count": 1,
   "metadata": {},
   "outputs": [
    {
     "name": "stdout",
     "output_type": "stream",
     "text": [
      "Enter the number of days: 6\n",
      "Day\tSalary\n",
      "1\t$0.01\n",
      "2\t$0.02\n",
      "3\t$0.04\n",
      "4\t$0.08\n",
      "5\t$0.16\n",
      "6\t$0.32\n",
      "the total pay is $0.63\n"
     ]
    }
   ],
   "source": [
    "no_days = int(input('Enter the number of days: '))\n",
    "sal = 0\n",
    "print('Day\\tSalary')\n",
    "for i in range(1, no_days + 1):\n",
    "    cur_sal = 2**(i-1)\n",
    "    print('{}\\t${:0.2f}'.format(i, cur_sal/100))\n",
    "    sal +=  cur_sal\n",
    "    \n",
    "print('the total pay is ${0:0.2f}'.format(sal/100))\n"
   ]
  }
 ],
 "metadata": {
  "kernelspec": {
   "display_name": "Python 3",
   "language": "python",
   "name": "python3"
  },
  "language_info": {
   "codemirror_mode": {
    "name": "ipython",
    "version": 3
   },
   "file_extension": ".py",
   "mimetype": "text/x-python",
   "name": "python",
   "nbconvert_exporter": "python",
   "pygments_lexer": "ipython3",
   "version": "3.7.6"
  }
 },
 "nbformat": 4,
 "nbformat_minor": 2
}
