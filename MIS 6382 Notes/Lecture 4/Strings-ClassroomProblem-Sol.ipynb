{
 "cells": [
  {
   "cell_type": "markdown",
   "metadata": {},
   "source": [
    "## Strings - Practice Problem\n",
    "__Define a function get_address() that accepts a email header string as input.  It should then extract the portion of the email address that comes after the @ symbol__\n",
    "\n",
    "__For example, given the argument-  stephen.marquard@uct.ac.za Sat Jan 5 09:14:16 2008 __\n",
    "__The function should return  -     should return uct.ac.za__\n",
    "__Test out this function by calling it with various inputs.__\n",
    "__Assume that sometimes the portion after the address may not exist.__"
   ]
  },
  {
   "cell_type": "code",
   "execution_count": 8,
   "metadata": {},
   "outputs": [],
   "source": [
    "def get_address(my_header):\n",
    "    atpos = my_header.find('@')\n",
    "    sppos = my_header.find(' ', atpos + 1)\n",
    "    if sppos == -1:  # The find() method returns -1 if it does not find the specified string.\n",
    "        my_addr = my_header[atpos + 1:]\n",
    "    else:\n",
    "        my_addr =my_header[atpos + 1:sppos]\n",
    "    return my_addr\n",
    "    "
   ]
  },
  {
   "cell_type": "code",
   "execution_count": 9,
   "metadata": {},
   "outputs": [
    {
     "name": "stdout",
     "output_type": "stream",
     "text": [
      "uct.ac.za\n"
     ]
    }
   ],
   "source": [
    "print(get_address('From stephen.marquard@uct.ac.za Sat Jan 5 09:14:16 2008'))"
   ]
  },
  {
   "cell_type": "code",
   "execution_count": 10,
   "metadata": {},
   "outputs": [
    {
     "name": "stdout",
     "output_type": "stream",
     "text": [
      "utdallas.edu\n"
     ]
    }
   ],
   "source": [
    "print(get_address('rabih.neouchi@utdallas.edu'))"
   ]
  }
 ],
 "metadata": {
  "kernelspec": {
   "display_name": "Python 3",
   "language": "python",
   "name": "python3"
  },
  "language_info": {
   "codemirror_mode": {
    "name": "ipython",
    "version": 3
   },
   "file_extension": ".py",
   "mimetype": "text/x-python",
   "name": "python",
   "nbconvert_exporter": "python",
   "pygments_lexer": "ipython3",
   "version": "3.7.6"
  }
 },
 "nbformat": 4,
 "nbformat_minor": 2
}
