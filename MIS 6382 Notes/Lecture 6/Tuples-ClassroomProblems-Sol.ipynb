{
 "cells": [
  {
   "cell_type": "markdown",
   "metadata": {},
   "source": [
    "## Tuples - Practice Problems\n",
    "__Write a Python program to remove an empty tuple(s) from a list of tuples.__"
   ]
  },
  {
   "cell_type": "code",
   "execution_count": 2,
   "metadata": {},
   "outputs": [
    {
     "name": "stdout",
     "output_type": "stream",
     "text": [
      "[('',), ('a', 'b'), ('a', 'b', 'c'), 'd']\n"
     ]
    }
   ],
   "source": [
    "my_lst = [(), (), ('',), ('a', 'b'), (), ('a', 'b', 'c'), ('d')]\n",
    "\n",
    "new_lst = [x for x in my_lst if len(x) != 0]\n",
    "print(new_lst)"
   ]
  },
  {
   "cell_type": "markdown",
   "metadata": {},
   "source": [
    "__Write a Python program to create a new list of tuples by replacing the last value in each tuple in a list by 100.__"
   ]
  },
  {
   "cell_type": "code",
   "execution_count": 3,
   "metadata": {},
   "outputs": [
    {
     "name": "stdout",
     "output_type": "stream",
     "text": [
      "[(10, 20, 100), (40, 50, 100), (70, 80, 100)]\n"
     ]
    }
   ],
   "source": [
    "my_lst = [(10, 20, 40), (40, 50, 60), (70, 80, 90)]\n",
    "\n",
    " # The comma (,) is needed to tell Python that that the second part of the expression is also a tuple.\n",
    "new_lst = [x[:-1] + (100,) for x in my_lst]\n",
    "print(new_lst)"
   ]
  }
 ],
 "metadata": {
  "kernelspec": {
   "display_name": "Python 3",
   "language": "python",
   "name": "python3"
  },
  "language_info": {
   "codemirror_mode": {
    "name": "ipython",
    "version": 3
   },
   "file_extension": ".py",
   "mimetype": "text/x-python",
   "name": "python",
   "nbconvert_exporter": "python",
   "pygments_lexer": "ipython3",
   "version": "3.7.6"
  }
 },
 "nbformat": 4,
 "nbformat_minor": 2
}
