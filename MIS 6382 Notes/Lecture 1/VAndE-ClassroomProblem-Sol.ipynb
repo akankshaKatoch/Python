{
 "cells": [
  {
   "cell_type": "markdown",
   "metadata": {},
   "source": [
    "## Practice Problem in Class\n",
    "\n",
    "__Last month Joe purchased some stock in Acme Software, Inc. \n",
    "Here are the details of the purchase:__\n",
    "\n",
    "    •  The number of shares that Joe purchased was 1,000. \n",
    "    \n",
    "    •  When Joe purchased the stock, he paid $32.87 per share. \n",
    "    \n",
    "    •  Joe paid his stockbroker a commission that amounted to 2 percent of the amount he paid for the stock. \n",
    "\n",
    "__Two weeks later Joe sold the stock. Here are the details of the sale:__\n",
    "\n",
    "    • The number of shares that Joe sold was 1,000. • He sold the stock for $33.92 per share. \n",
    "    \n",
    "    • He paid his stockbroker another commission that amounted to 2 percent of the amount he received for the stock. \n",
    "    \n",
    "__Write a program that displays the following information:__\n",
    "\n",
    "    • The amount of money Joe paid for the stock. \n",
    "    \n",
    "    • The amount of commission Joe paid his broker when he bought the stock. \n",
    "    \n",
    "    • The amount that Joe sold the stock for. \n",
    "    \n",
    "    • The amount of commission Joe paid his broker when he sold the stock. \n",
    "    \n",
    "    \n",
    "__Display the profit or loss that Joe made after the purchase and sale of the stock.__\n"
   ]
  },
  {
   "cell_type": "code",
   "execution_count": 1,
   "metadata": {},
   "outputs": [
    {
     "name": "stdout",
     "output_type": "stream",
     "text": [
      "The amount of money Joe paid for the stock is $32,870.00\n",
      "The amount of commission Joe paid his broker when he bought the stock is $657.40\n",
      "The amount that Joe sold the stock for is $33,920.00\n",
      "The amount of commission Joe paid his broker when he sold the stock is $678.40\n",
      "The amount of profit (loss) Joe made is $-285.80\n"
     ]
    }
   ],
   "source": [
    "amt_paid_pur = 32.87 * 1000 #shares purchased for\n",
    "com_paid_pur = 0.02*amt_paid_pur # commission paid on purchase\n",
    "net_paid_pur = amt_paid_pur + com_paid_pur #total cost of purchase\n",
    "amt_recd_sel = 33.92 * 1000 # shares sold for\n",
    "com_paid_sel = amt_recd_sel * 0.02 #commission paid on sales\n",
    "net_rem_sel = amt_recd_sel - com_paid_sel #net receipt from sales\n",
    "profit =  net_rem_sel - net_paid_pur\n",
    "print('The amount of money Joe paid for the stock is ${0:0,.02f}'.format(amt_paid_pur))\n",
    "print('The amount of commission Joe paid his broker when he bought the stock is ${0:0,.02f}'.format(com_paid_pur))\n",
    "print('The amount that Joe sold the stock for is ${0:0,.02f}'.format(amt_recd_sel))\n",
    "print('The amount of commission Joe paid his broker when he sold the stock is ${0:0,.2f}'.format(com_paid_sel))\n",
    "print('The amount of profit (loss) Joe made is ${0:0,.02f}'.format(profit))"
   ]
  }
 ],
 "metadata": {
  "kernelspec": {
   "display_name": "Python 3",
   "language": "python",
   "name": "python3"
  },
  "language_info": {
   "codemirror_mode": {
    "name": "ipython",
    "version": 3
   },
   "file_extension": ".py",
   "mimetype": "text/x-python",
   "name": "python",
   "nbconvert_exporter": "python",
   "pygments_lexer": "ipython3",
   "version": "3.7.6"
  }
 },
 "nbformat": 4,
 "nbformat_minor": 2
}
