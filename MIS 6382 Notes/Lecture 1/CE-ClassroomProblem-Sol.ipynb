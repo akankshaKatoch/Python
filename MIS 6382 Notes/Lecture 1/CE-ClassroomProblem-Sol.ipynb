{
 "cells": [
  {
   "cell_type": "markdown",
   "metadata": {},
   "source": [
    "## Conditional Execution - Practice Problem"
   ]
  },
  {
   "cell_type": "markdown",
   "metadata": {},
   "source": [
    "__Create a change-counting game that gets the user to enter the number of coins required to make \n",
    "exactly  one  dollar.  The  program  should  prompt  the  user  to  enter  the  number  of  \n",
    "pennies, nickels, dimes, and quarters. If the total value of the coins entered is equal to one \n",
    "dollar, the program should congratulate the user for winning the game. Otherwise, the program \n",
    "should display a message indicating whether the amount entered was more than or less than one \n",
    "dollar.__"
   ]
  },
  {
   "cell_type": "code",
   "execution_count": 1,
   "metadata": {},
   "outputs": [
    {
     "name": "stdout",
     "output_type": "stream",
     "text": [
      "Enter the number of pennies you have: 56\n",
      "Enter the number of nickels you have: 28\n",
      "Enter the number of dimes you have: 16\n",
      "Enter the number of quarters you have: 44\n",
      "Amount is more than a dollar\n"
     ]
    }
   ],
   "source": [
    "p = int(input('Enter the number of pennies you have: '))\n",
    "n = int(input('Enter the number of nickels you have: '))\n",
    "d = int(input('Enter the number of dimes you have: '))\n",
    "q = int(input('Enter the number of quarters you have: '))\n",
    "\n",
    "total_amount = p*1 + n*5 + d*10 + q*25\n",
    "if total_amount == 100:\n",
    "    print('Congratulations!')\n",
    "elif total_amount < 100:\n",
    "    print('Amount is less than a dollar')\n",
    "else:\n",
    "    print('Amount is more than a dollar')"
   ]
  },
  {
   "cell_type": "markdown",
   "metadata": {},
   "source": [
    "__Extend the program written above as follows:__\n",
    "__If the amount is less than a dollar, print `\"The amount is x% less than a dollar\"` where the value of x needs to be correctly computed and replaced.  Similary, if the amount is greater than a dollar, print `\"the amount is y% more than a dollar\"`.__"
   ]
  },
  {
   "cell_type": "code",
   "execution_count": 2,
   "metadata": {},
   "outputs": [
    {
     "name": "stdout",
     "output_type": "stream",
     "text": [
      "Enter the number of pennies you have: 56\n",
      "Enter the number of nickels you have: 28\n",
      "Enter the number of dimes you have: 16\n",
      "Enter the number of quarters you have: 44\n",
      "1456\n",
      "Amount is more than a dollar\n",
      "The amount is 1356% more than a dollar\n"
     ]
    }
   ],
   "source": [
    "p = int(input('Enter the number of pennies you have: '))\n",
    "n = int(input('Enter the number of nickels you have: '))\n",
    "d = int(input('Enter the number of dimes you have: '))\n",
    "q = int(input('Enter the number of quarters you have: '))\n",
    "\n",
    "total_amount = p*1 + n*5 + d*10 + q*25\n",
    "print(total_amount)\n",
    "\n",
    "if total_amount == 100:\n",
    "    print('Congratulations!')\n",
    "elif total_amount < 100:\n",
    "    print('Amount is less than a dollar')\n",
    "    print('The amount is {}% less than a dollar'.format(100 - total_amount))\n",
    "else:\n",
    "    print('Amount is more than a dollar')\n",
    "    print('The amount is {}% more than a dollar'.format(total_amount - 100))\n",
    "\n"
   ]
  },
  {
   "cell_type": "markdown",
   "metadata": {},
   "source": [
    "__Extend the program written above as follows:__\n",
    "__If the amount is less than 100, check if it is greater than 50.  If it is, print `\"Not much less than a dollar\"`.  If not,\n",
    "print `\"Much less than a dollar\"`.   If the amount is greater than 100, check if it greater than 150.  If it is, print `\"Much more than a dollar\"`.  If not, print  `\"Not much more than a dollar\"`__"
   ]
  },
  {
   "cell_type": "code",
   "execution_count": 3,
   "metadata": {},
   "outputs": [
    {
     "name": "stdout",
     "output_type": "stream",
     "text": [
      "Enter the number of pennies you have: 56\n",
      "Enter the number of nickels you have: 28\n",
      "Enter the number of dimes you have: 16\n",
      "Enter the number of quarters you have: 44\n",
      "Amount is more than a dollar\n",
      "The amount is 1356% more than a dollar\n",
      "Much more than a dollar\n"
     ]
    }
   ],
   "source": [
    "p = int(input('Enter the number of pennies you have: '))\n",
    "n = int(input('Enter the number of nickels you have: '))\n",
    "d = int(input('Enter the number of dimes you have: '))\n",
    "q = int(input('Enter the number of quarters you have: '))\n",
    "\n",
    "total_amount = p*1 + n*5 + d*10 + q*25\n",
    "\n",
    "if total_amount == 100:\n",
    "    print('Congratulations!')\n",
    "elif total_amount < 100:\n",
    "    print('Amount is less than a dollar')\n",
    "    print('The amount is {}% less than a dollar'.format(100 - total_amount))\n",
    "    if total_amount > 50:\n",
    "        print('Not much less than a dollar')\n",
    "    else:\n",
    "        print('Much less than a dollar')\n",
    "else:\n",
    "    print('Amount is more than a dollar')\n",
    "    print('The amount is {}% more than a dollar'.format(total_amount - 100))\n",
    "    if total_amount > 150:\n",
    "        print('Much more than a dollar')\n",
    "    else:\n",
    "        print('Not much more than a dollar')"
   ]
  }
 ],
 "metadata": {
  "kernelspec": {
   "display_name": "Python 3",
   "language": "python",
   "name": "python3"
  },
  "language_info": {
   "codemirror_mode": {
    "name": "ipython",
    "version": 3
   },
   "file_extension": ".py",
   "mimetype": "text/x-python",
   "name": "python",
   "nbconvert_exporter": "python",
   "pygments_lexer": "ipython3",
   "version": "3.7.6"
  }
 },
 "nbformat": 4,
 "nbformat_minor": 2
}
