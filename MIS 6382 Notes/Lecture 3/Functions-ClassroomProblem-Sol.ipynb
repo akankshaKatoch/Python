{
 "cells": [
  {
   "cell_type": "markdown",
   "metadata": {},
   "source": [
    "## Functions - Practice Problem\n",
    "__A nutritionist who works for a fitness club helps members by evaluating their diets. As part of her evaluation, she asks members for the number of fat grams, protein grams and carbohydrate grams that they consumed in a day.  \n",
    "Then, she calculates the number of calories that result from the fat, using the following formula: calories from fat = fat grams * 9.  \n",
    "Next, she calculates the number of calories that result from the protein, using the following formula: calories from protein = protein grams * 4.  Finally, she calculates the number of calories that result from the carbohydrates, using the following formula: calories from carbs = carb grams * 4__"
   ]
  },
  {
   "cell_type": "code",
   "execution_count": 1,
   "metadata": {},
   "outputs": [],
   "source": [
    "'''\n",
    "Define a function that will accept the fat grams, protien grams and carb grams consumed as input and \n",
    "display the total calories consumed.\n",
    "'''\n",
    "def compute_consumption(fat_gms, pro_gms, carb_gms):\n",
    "    print(fat_gms * 9 + (carb_gms +pro_gms) * 4)"
   ]
  },
  {
   "cell_type": "code",
   "execution_count": 2,
   "metadata": {},
   "outputs": [
    {
     "name": "stdout",
     "output_type": "stream",
     "text": [
      "Enter the fat grams consumed: 6\n",
      "Enter the protein grams consumed: 12\n",
      "Enter the carb grams consumed: 8\n",
      "134.0\n"
     ]
    }
   ],
   "source": [
    "'''\n",
    "call the function defined above by providing appropriate inputs after acquiring them from the user.\n",
    "'''\n",
    "f = float(input('Enter the fat grams consumed: '))\n",
    "p = float(input('Enter the protein grams consumed: '))\n",
    "c = float(input('Enter the carb grams consumed: '))\n",
    "compute_consumption(f, p, c)"
   ]
  },
  {
   "cell_type": "code",
   "execution_count": 3,
   "metadata": {},
   "outputs": [],
   "source": [
    "'''\n",
    "Now redefine the function above, to return the results instead of printing them out.\n",
    "'''\n",
    "def compute_consumption(fat_gms, pro_gms, carb_gms):\n",
    "    return fat_gms * 9 + (carb_gms +pro_gms) * 4"
   ]
  },
  {
   "cell_type": "code",
   "execution_count": 4,
   "metadata": {},
   "outputs": [
    {
     "name": "stdout",
     "output_type": "stream",
     "text": [
      "Enter the fat grams consumed: 6\n",
      "Enter the protein grams consumed: 12\n",
      "Enter the carb grams consumed: 8\n",
      "The total number of calories consumed is 134.0\n"
     ]
    }
   ],
   "source": [
    "'''\n",
    "Call the function after acquiring the inputs from the user and store the results in a variable called cal_con.\n",
    "Then print the results with an appropriate message.\n",
    "'''\n",
    "f = float(input('Enter the fat grams consumed: '))\n",
    "p = float(input('Enter the protein grams consumed: '))\n",
    "c = float(input('Enter the carb grams consumed: '))\n",
    "cal_con = compute_consumption(f, p, c)\n",
    "print('The total number of calories consumed is', cal_con)"
   ]
  },
  {
   "cell_type": "code",
   "execution_count": 5,
   "metadata": {},
   "outputs": [],
   "source": [
    "'''\n",
    "Redefine the function with default value for protien grams = 28 and default values for carb grams = 200.\n",
    "'''\n",
    "def compute_consumption(fat_gms, pro_gms = 28, carb_gms = 200):\n",
    "    return fat_gms * 9 + (carb_gms +pro_gms) * 4"
   ]
  },
  {
   "cell_type": "code",
   "execution_count": 6,
   "metadata": {},
   "outputs": [
    {
     "name": "stdout",
     "output_type": "stream",
     "text": [
      "1198\n"
     ]
    }
   ],
   "source": [
    "'''\n",
    "Call the function with fat grams = 30, protien grams = 32 and default value for carb grams.\n",
    "Print the results\n",
    "'''\n",
    "print(compute_consumption(30, 32))"
   ]
  },
  {
   "cell_type": "code",
   "execution_count": 7,
   "metadata": {},
   "outputs": [
    {
     "name": "stdout",
     "output_type": "stream",
     "text": [
      "1382\n",
      "1382\n"
     ]
    }
   ],
   "source": [
    "'''\n",
    "Call the function with fat grams = 30, carb grams = 250 and default value for protien grams.\n",
    "Print the results\n",
    "'''\n",
    "print(compute_consumption(30, 28, 250))\n",
    "print(compute_consumption(30, carb_gms = 250))"
   ]
  }
 ],
 "metadata": {
  "kernelspec": {
   "display_name": "Python 3",
   "language": "python",
   "name": "python3"
  },
  "language_info": {
   "codemirror_mode": {
    "name": "ipython",
    "version": 3
   },
   "file_extension": ".py",
   "mimetype": "text/x-python",
   "name": "python",
   "nbconvert_exporter": "python",
   "pygments_lexer": "ipython3",
   "version": "3.7.6"
  }
 },
 "nbformat": 4,
 "nbformat_minor": 2
}
