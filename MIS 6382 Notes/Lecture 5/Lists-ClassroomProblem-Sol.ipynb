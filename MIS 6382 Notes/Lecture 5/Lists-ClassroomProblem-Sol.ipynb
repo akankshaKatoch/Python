{
 "cells": [
  {
   "cell_type": "markdown",
   "metadata": {},
   "source": [
    "## Lists - Practics Problem\n",
    "\n",
    "__Write a Python program to remove duplicates from a list.__"
   ]
  },
  {
   "cell_type": "code",
   "execution_count": 1,
   "metadata": {},
   "outputs": [
    {
     "name": "stdout",
     "output_type": "stream",
     "text": [
      "Enter a list of numbers separated by a ',': 1,2,3,4,4,5,2,3,4,5,5\n",
      "[1, 2, 3, 4, 5]\n"
     ]
    }
   ],
   "source": [
    "'''\n",
    "A Python program that removes duplicates from a list. \n",
    "'''\n",
    "my_list = input('Enter a list of numbers separated by a \\',\\': ').split(',')\n",
    "\n",
    "out_list = []\n",
    "for i in my_list:\n",
    "    if int(i) not in out_list:\n",
    "        out_list.append(int(i))\n",
    "print(out_list)"
   ]
  }
 ],
 "metadata": {
  "kernelspec": {
   "display_name": "Python 3",
   "language": "python",
   "name": "python3"
  },
  "language_info": {
   "codemirror_mode": {
    "name": "ipython",
    "version": 3
   },
   "file_extension": ".py",
   "mimetype": "text/x-python",
   "name": "python",
   "nbconvert_exporter": "python",
   "pygments_lexer": "ipython3",
   "version": "3.7.6"
  }
 },
 "nbformat": 4,
 "nbformat_minor": 2
}
